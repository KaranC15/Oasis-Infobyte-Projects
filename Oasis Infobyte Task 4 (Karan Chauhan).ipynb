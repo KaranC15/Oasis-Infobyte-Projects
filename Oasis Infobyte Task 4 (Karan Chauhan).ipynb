{
 "cells": [
  {
   "cell_type": "markdown",
   "id": "a6af3bdd",
   "metadata": {},
   "source": [
    "### Importing necessary libraries"
   ]
  },
  {
   "cell_type": "code",
   "execution_count": 2,
   "id": "62c10ece",
   "metadata": {},
   "outputs": [],
   "source": [
    "# import numpy as np\n",
    "import pandas as pd\n",
    "import seaborn as sns\n",
    "from sklearn.naive_bayes import GaussianNB as GNB\n",
    "from sklearn.svm import SVC\n",
    "from sklearn.tree import DecisionTreeClassifier as DTC\n",
    "from sklearn.ensemble import RandomForestClassifier as RFC\n",
    "from sklearn.feature_extraction.text import CountVectorizer as CV, TfidfVectorizer as TV\n",
    "from sklearn.model_selection import train_test_split as TTS\n",
    "import re\n",
    "import string\n",
    "import nltk\n",
    "stopwords = nltk.corpus.stopwords.words('english')\n",
    "from nltk.stem import WordNetLemmatizer\n",
    "wordnet_lemmatizer = WordNetLemmatizer()\n",
    "from nltk.stem.porter import PorterStemmer\n",
    "porter_stemmer = PorterStemmer()\n",
    "import spacy\n",
    "from textstat.textstat import textstatistics\n",
    "from textblob import TextBlob\n",
    "from sklearn.metrics import confusion_matrix, classification_report"
   ]
  },
  {
   "cell_type": "markdown",
   "id": "d25aeb02",
   "metadata": {},
   "source": [
    "### Preparing data"
   ]
  },
  {
   "cell_type": "code",
   "execution_count": 3,
   "id": "677f9052",
   "metadata": {},
   "outputs": [
    {
     "data": {
      "text/html": [
       "<div>\n",
       "<style scoped>\n",
       "    .dataframe tbody tr th:only-of-type {\n",
       "        vertical-align: middle;\n",
       "    }\n",
       "\n",
       "    .dataframe tbody tr th {\n",
       "        vertical-align: top;\n",
       "    }\n",
       "\n",
       "    .dataframe thead th {\n",
       "        text-align: right;\n",
       "    }\n",
       "</style>\n",
       "<table border=\"1\" class=\"dataframe\">\n",
       "  <thead>\n",
       "    <tr style=\"text-align: right;\">\n",
       "      <th></th>\n",
       "      <th>v1</th>\n",
       "      <th>v2</th>\n",
       "      <th>Unnamed: 2</th>\n",
       "      <th>Unnamed: 3</th>\n",
       "      <th>Unnamed: 4</th>\n",
       "    </tr>\n",
       "  </thead>\n",
       "  <tbody>\n",
       "    <tr>\n",
       "      <th>0</th>\n",
       "      <td>ham</td>\n",
       "      <td>Go until jurong point, crazy.. Available only ...</td>\n",
       "      <td>NaN</td>\n",
       "      <td>NaN</td>\n",
       "      <td>NaN</td>\n",
       "    </tr>\n",
       "    <tr>\n",
       "      <th>1</th>\n",
       "      <td>ham</td>\n",
       "      <td>Ok lar... Joking wif u oni...</td>\n",
       "      <td>NaN</td>\n",
       "      <td>NaN</td>\n",
       "      <td>NaN</td>\n",
       "    </tr>\n",
       "    <tr>\n",
       "      <th>2</th>\n",
       "      <td>spam</td>\n",
       "      <td>Free entry in 2 a wkly comp to win FA Cup fina...</td>\n",
       "      <td>NaN</td>\n",
       "      <td>NaN</td>\n",
       "      <td>NaN</td>\n",
       "    </tr>\n",
       "    <tr>\n",
       "      <th>3</th>\n",
       "      <td>ham</td>\n",
       "      <td>U dun say so early hor... U c already then say...</td>\n",
       "      <td>NaN</td>\n",
       "      <td>NaN</td>\n",
       "      <td>NaN</td>\n",
       "    </tr>\n",
       "    <tr>\n",
       "      <th>4</th>\n",
       "      <td>ham</td>\n",
       "      <td>Nah I don't think he goes to usf, he lives aro...</td>\n",
       "      <td>NaN</td>\n",
       "      <td>NaN</td>\n",
       "      <td>NaN</td>\n",
       "    </tr>\n",
       "    <tr>\n",
       "      <th>...</th>\n",
       "      <td>...</td>\n",
       "      <td>...</td>\n",
       "      <td>...</td>\n",
       "      <td>...</td>\n",
       "      <td>...</td>\n",
       "    </tr>\n",
       "    <tr>\n",
       "      <th>5567</th>\n",
       "      <td>spam</td>\n",
       "      <td>This is the 2nd time we have tried 2 contact u...</td>\n",
       "      <td>NaN</td>\n",
       "      <td>NaN</td>\n",
       "      <td>NaN</td>\n",
       "    </tr>\n",
       "    <tr>\n",
       "      <th>5568</th>\n",
       "      <td>ham</td>\n",
       "      <td>Will Ì_ b going to esplanade fr home?</td>\n",
       "      <td>NaN</td>\n",
       "      <td>NaN</td>\n",
       "      <td>NaN</td>\n",
       "    </tr>\n",
       "    <tr>\n",
       "      <th>5569</th>\n",
       "      <td>ham</td>\n",
       "      <td>Pity, * was in mood for that. So...any other s...</td>\n",
       "      <td>NaN</td>\n",
       "      <td>NaN</td>\n",
       "      <td>NaN</td>\n",
       "    </tr>\n",
       "    <tr>\n",
       "      <th>5570</th>\n",
       "      <td>ham</td>\n",
       "      <td>The guy did some bitching but I acted like i'd...</td>\n",
       "      <td>NaN</td>\n",
       "      <td>NaN</td>\n",
       "      <td>NaN</td>\n",
       "    </tr>\n",
       "    <tr>\n",
       "      <th>5571</th>\n",
       "      <td>ham</td>\n",
       "      <td>Rofl. Its true to its name</td>\n",
       "      <td>NaN</td>\n",
       "      <td>NaN</td>\n",
       "      <td>NaN</td>\n",
       "    </tr>\n",
       "  </tbody>\n",
       "</table>\n",
       "<p>5572 rows × 5 columns</p>\n",
       "</div>"
      ],
      "text/plain": [
       "        v1                                                 v2 Unnamed: 2  \\\n",
       "0      ham  Go until jurong point, crazy.. Available only ...        NaN   \n",
       "1      ham                      Ok lar... Joking wif u oni...        NaN   \n",
       "2     spam  Free entry in 2 a wkly comp to win FA Cup fina...        NaN   \n",
       "3      ham  U dun say so early hor... U c already then say...        NaN   \n",
       "4      ham  Nah I don't think he goes to usf, he lives aro...        NaN   \n",
       "...    ...                                                ...        ...   \n",
       "5567  spam  This is the 2nd time we have tried 2 contact u...        NaN   \n",
       "5568   ham              Will Ì_ b going to esplanade fr home?        NaN   \n",
       "5569   ham  Pity, * was in mood for that. So...any other s...        NaN   \n",
       "5570   ham  The guy did some bitching but I acted like i'd...        NaN   \n",
       "5571   ham                         Rofl. Its true to its name        NaN   \n",
       "\n",
       "     Unnamed: 3 Unnamed: 4  \n",
       "0           NaN        NaN  \n",
       "1           NaN        NaN  \n",
       "2           NaN        NaN  \n",
       "3           NaN        NaN  \n",
       "4           NaN        NaN  \n",
       "...         ...        ...  \n",
       "5567        NaN        NaN  \n",
       "5568        NaN        NaN  \n",
       "5569        NaN        NaN  \n",
       "5570        NaN        NaN  \n",
       "5571        NaN        NaN  \n",
       "\n",
       "[5572 rows x 5 columns]"
      ]
     },
     "execution_count": 3,
     "metadata": {},
     "output_type": "execute_result"
    }
   ],
   "source": [
    "df = pd.read_csv('spam.csv', encoding = 'latin-1')\n",
    "df"
   ]
  },
  {
   "cell_type": "markdown",
   "id": "30485d2c",
   "metadata": {},
   "source": [
    "### Displaying null value percentage distribution"
   ]
  },
  {
   "cell_type": "code",
   "execution_count": 3,
   "id": "e5b15e5d",
   "metadata": {
    "scrolled": true
   },
   "outputs": [
    {
     "data": {
      "text/plain": [
       "True     0.991027\n",
       "False    0.008973\n",
       "Name: Unnamed: 2, dtype: float64"
      ]
     },
     "execution_count": 3,
     "metadata": {},
     "output_type": "execute_result"
    }
   ],
   "source": [
    "df['Unnamed: 2'].isna().value_counts(normalize=True)"
   ]
  },
  {
   "cell_type": "code",
   "execution_count": 4,
   "id": "083a40e3",
   "metadata": {},
   "outputs": [
    {
     "data": {
      "text/plain": [
       "True     0.997846\n",
       "False    0.002154\n",
       "Name: Unnamed: 3, dtype: float64"
      ]
     },
     "execution_count": 4,
     "metadata": {},
     "output_type": "execute_result"
    }
   ],
   "source": [
    "df['Unnamed: 3'].isna().value_counts(normalize=True)"
   ]
  },
  {
   "cell_type": "code",
   "execution_count": 5,
   "id": "22685a9b",
   "metadata": {},
   "outputs": [
    {
     "data": {
      "text/plain": [
       "True     0.998923\n",
       "False    0.001077\n",
       "Name: Unnamed: 4, dtype: float64"
      ]
     },
     "execution_count": 5,
     "metadata": {},
     "output_type": "execute_result"
    }
   ],
   "source": [
    "df['Unnamed: 4'].isna().value_counts(normalize=True)"
   ]
  },
  {
   "cell_type": "markdown",
   "id": "5f3ddf7b",
   "metadata": {},
   "source": [
    "### Deleting unnecessary columns"
   ]
  },
  {
   "cell_type": "code",
   "execution_count": 6,
   "id": "9acf50e8",
   "metadata": {},
   "outputs": [],
   "source": [
    "del df['Unnamed: 2']\n",
    "del df['Unnamed: 3']\n",
    "del df['Unnamed: 4']"
   ]
  },
  {
   "cell_type": "code",
   "execution_count": 7,
   "id": "1680559b",
   "metadata": {},
   "outputs": [
    {
     "data": {
      "text/html": [
       "<div>\n",
       "<style scoped>\n",
       "    .dataframe tbody tr th:only-of-type {\n",
       "        vertical-align: middle;\n",
       "    }\n",
       "\n",
       "    .dataframe tbody tr th {\n",
       "        vertical-align: top;\n",
       "    }\n",
       "\n",
       "    .dataframe thead th {\n",
       "        text-align: right;\n",
       "    }\n",
       "</style>\n",
       "<table border=\"1\" class=\"dataframe\">\n",
       "  <thead>\n",
       "    <tr style=\"text-align: right;\">\n",
       "      <th></th>\n",
       "      <th>v1</th>\n",
       "      <th>v2</th>\n",
       "    </tr>\n",
       "  </thead>\n",
       "  <tbody>\n",
       "    <tr>\n",
       "      <th>0</th>\n",
       "      <td>ham</td>\n",
       "      <td>Go until jurong point, crazy.. Available only ...</td>\n",
       "    </tr>\n",
       "    <tr>\n",
       "      <th>1</th>\n",
       "      <td>ham</td>\n",
       "      <td>Ok lar... Joking wif u oni...</td>\n",
       "    </tr>\n",
       "    <tr>\n",
       "      <th>2</th>\n",
       "      <td>spam</td>\n",
       "      <td>Free entry in 2 a wkly comp to win FA Cup fina...</td>\n",
       "    </tr>\n",
       "    <tr>\n",
       "      <th>3</th>\n",
       "      <td>ham</td>\n",
       "      <td>U dun say so early hor... U c already then say...</td>\n",
       "    </tr>\n",
       "    <tr>\n",
       "      <th>4</th>\n",
       "      <td>ham</td>\n",
       "      <td>Nah I don't think he goes to usf, he lives aro...</td>\n",
       "    </tr>\n",
       "    <tr>\n",
       "      <th>...</th>\n",
       "      <td>...</td>\n",
       "      <td>...</td>\n",
       "    </tr>\n",
       "    <tr>\n",
       "      <th>5567</th>\n",
       "      <td>spam</td>\n",
       "      <td>This is the 2nd time we have tried 2 contact u...</td>\n",
       "    </tr>\n",
       "    <tr>\n",
       "      <th>5568</th>\n",
       "      <td>ham</td>\n",
       "      <td>Will Ì_ b going to esplanade fr home?</td>\n",
       "    </tr>\n",
       "    <tr>\n",
       "      <th>5569</th>\n",
       "      <td>ham</td>\n",
       "      <td>Pity, * was in mood for that. So...any other s...</td>\n",
       "    </tr>\n",
       "    <tr>\n",
       "      <th>5570</th>\n",
       "      <td>ham</td>\n",
       "      <td>The guy did some bitching but I acted like i'd...</td>\n",
       "    </tr>\n",
       "    <tr>\n",
       "      <th>5571</th>\n",
       "      <td>ham</td>\n",
       "      <td>Rofl. Its true to its name</td>\n",
       "    </tr>\n",
       "  </tbody>\n",
       "</table>\n",
       "<p>5572 rows × 2 columns</p>\n",
       "</div>"
      ],
      "text/plain": [
       "        v1                                                 v2\n",
       "0      ham  Go until jurong point, crazy.. Available only ...\n",
       "1      ham                      Ok lar... Joking wif u oni...\n",
       "2     spam  Free entry in 2 a wkly comp to win FA Cup fina...\n",
       "3      ham  U dun say so early hor... U c already then say...\n",
       "4      ham  Nah I don't think he goes to usf, he lives aro...\n",
       "...    ...                                                ...\n",
       "5567  spam  This is the 2nd time we have tried 2 contact u...\n",
       "5568   ham              Will Ì_ b going to esplanade fr home?\n",
       "5569   ham  Pity, * was in mood for that. So...any other s...\n",
       "5570   ham  The guy did some bitching but I acted like i'd...\n",
       "5571   ham                         Rofl. Its true to its name\n",
       "\n",
       "[5572 rows x 2 columns]"
      ]
     },
     "execution_count": 7,
     "metadata": {},
     "output_type": "execute_result"
    }
   ],
   "source": [
    "df"
   ]
  },
  {
   "cell_type": "markdown",
   "id": "748fb409",
   "metadata": {},
   "source": [
    "### Frequence table of Target variable"
   ]
  },
  {
   "cell_type": "code",
   "execution_count": 8,
   "id": "83bd8ddd",
   "metadata": {},
   "outputs": [
    {
     "data": {
      "text/plain": [
       "ham     4825\n",
       "spam     747\n",
       "Name: v1, dtype: int64"
      ]
     },
     "execution_count": 8,
     "metadata": {},
     "output_type": "execute_result"
    }
   ],
   "source": [
    "df.v1.value_counts()"
   ]
  },
  {
   "cell_type": "markdown",
   "id": "f00bb9f6",
   "metadata": {},
   "source": [
    "### Percentage distribution on Target variable"
   ]
  },
  {
   "cell_type": "code",
   "execution_count": 9,
   "id": "37744918",
   "metadata": {
    "scrolled": true
   },
   "outputs": [
    {
     "data": {
      "text/plain": [
       "ham     0.865937\n",
       "spam    0.134063\n",
       "Name: v1, dtype: float64"
      ]
     },
     "execution_count": 9,
     "metadata": {},
     "output_type": "execute_result"
    }
   ],
   "source": [
    "df.v1.value_counts(normalize=True)"
   ]
  },
  {
   "cell_type": "markdown",
   "id": "e6042a59",
   "metadata": {},
   "source": [
    "### Count plot on target variable"
   ]
  },
  {
   "cell_type": "code",
   "execution_count": 10,
   "id": "e39f61f0",
   "metadata": {},
   "outputs": [
    {
     "name": "stderr",
     "output_type": "stream",
     "text": [
      "C:\\Users\\Karan Chauhan\\anaconda3\\lib\\site-packages\\seaborn\\_decorators.py:36: FutureWarning: Pass the following variable as a keyword arg: x. From version 0.12, the only valid positional argument will be `data`, and passing other arguments without an explicit keyword will result in an error or misinterpretation.\n",
      "  warnings.warn(\n"
     ]
    },
    {
     "data": {
      "text/plain": [
       "<AxesSubplot:xlabel='v1', ylabel='count'>"
      ]
     },
     "execution_count": 10,
     "metadata": {},
     "output_type": "execute_result"
    },
    {
     "data": {
      "image/png": "[encoded data removed]",
      "text/plain": [
       "<Figure size 432x288 with 1 Axes>"
      ]
     },
     "metadata": {
      "needs_background": "light"
     },
     "output_type": "display_data"
    }
   ],
   "source": [
    "sns.countplot(df['v1'])"
   ]
  },
  {
   "cell_type": "code",
   "execution_count": 11,
   "id": "3ba06d01",
   "metadata": {},
   "outputs": [
    {
     "name": "stderr",
     "output_type": "stream",
     "text": [
      "C:\\Users\\KARANC~1\\AppData\\Local\\Temp/ipykernel_43700/805102761.py:1: FutureWarning: Passing a negative integer is deprecated in version 1.0 and will not be supported in future version. Instead, use None to not limit the column width.\n",
      "  pd.set_option('display.max_colwidth',-1)\n"
     ]
    },
    {
     "data": {
      "text/html": [
       "<div>\n",
       "<style scoped>\n",
       "    .dataframe tbody tr th:only-of-type {\n",
       "        vertical-align: middle;\n",
       "    }\n",
       "\n",
       "    .dataframe tbody tr th {\n",
       "        vertical-align: top;\n",
       "    }\n",
       "\n",
       "    .dataframe thead th {\n",
       "        text-align: right;\n",
       "    }\n",
       "</style>\n",
       "<table border=\"1\" class=\"dataframe\">\n",
       "  <thead>\n",
       "    <tr style=\"text-align: right;\">\n",
       "      <th></th>\n",
       "      <th>v1</th>\n",
       "      <th>v2</th>\n",
       "    </tr>\n",
       "  </thead>\n",
       "  <tbody>\n",
       "    <tr>\n",
       "      <th>0</th>\n",
       "      <td>ham</td>\n",
       "      <td>Go until jurong point, crazy.. Available only in bugis n great world la e buffet... Cine there got amore wat...</td>\n",
       "    </tr>\n",
       "    <tr>\n",
       "      <th>1</th>\n",
       "      <td>ham</td>\n",
       "      <td>Ok lar... Joking wif u oni...</td>\n",
       "    </tr>\n",
       "    <tr>\n",
       "      <th>2</th>\n",
       "      <td>spam</td>\n",
       "      <td>Free entry in 2 a wkly comp to win FA Cup final tkts 21st May 2005. Text FA to 87121 to receive entry question(std txt rate)T&amp;C's apply 08452810075over18's</td>\n",
       "    </tr>\n",
       "    <tr>\n",
       "      <th>3</th>\n",
       "      <td>ham</td>\n",
       "      <td>U dun say so early hor... U c already then say...</td>\n",
       "    </tr>\n",
       "    <tr>\n",
       "      <th>4</th>\n",
       "      <td>ham</td>\n",
       "      <td>Nah I don't think he goes to usf, he lives around here though</td>\n",
       "    </tr>\n",
       "    <tr>\n",
       "      <th>...</th>\n",
       "      <td>...</td>\n",
       "      <td>...</td>\n",
       "    </tr>\n",
       "    <tr>\n",
       "      <th>5567</th>\n",
       "      <td>spam</td>\n",
       "      <td>This is the 2nd time we have tried 2 contact u. U have won the å£750 Pound prize. 2 claim is easy, call 087187272008 NOW1! Only 10p per minute. BT-national-rate.</td>\n",
       "    </tr>\n",
       "    <tr>\n",
       "      <th>5568</th>\n",
       "      <td>ham</td>\n",
       "      <td>Will Ì_ b going to esplanade fr home?</td>\n",
       "    </tr>\n",
       "    <tr>\n",
       "      <th>5569</th>\n",
       "      <td>ham</td>\n",
       "      <td>Pity, * was in mood for that. So...any other suggestions?</td>\n",
       "    </tr>\n",
       "    <tr>\n",
       "      <th>5570</th>\n",
       "      <td>ham</td>\n",
       "      <td>The guy did some bitching but I acted like i'd be interested in buying something else next week and he gave it to us for free</td>\n",
       "    </tr>\n",
       "    <tr>\n",
       "      <th>5571</th>\n",
       "      <td>ham</td>\n",
       "      <td>Rofl. Its true to its name</td>\n",
       "    </tr>\n",
       "  </tbody>\n",
       "</table>\n",
       "<p>5572 rows × 2 columns</p>\n",
       "</div>"
      ],
      "text/plain": [
       "        v1  \\\n",
       "0     ham    \n",
       "1     ham    \n",
       "2     spam   \n",
       "3     ham    \n",
       "4     ham    \n",
       "...   ...    \n",
       "5567  spam   \n",
       "5568  ham    \n",
       "5569  ham    \n",
       "5570  ham    \n",
       "5571  ham    \n",
       "\n",
       "                                                                                                                                                                     v2  \n",
       "0     Go until jurong point, crazy.. Available only in bugis n great world la e buffet... Cine there got amore wat...                                                    \n",
       "1     Ok lar... Joking wif u oni...                                                                                                                                      \n",
       "2     Free entry in 2 a wkly comp to win FA Cup final tkts 21st May 2005. Text FA to 87121 to receive entry question(std txt rate)T&C's apply 08452810075over18's        \n",
       "3     U dun say so early hor... U c already then say...                                                                                                                  \n",
       "4     Nah I don't think he goes to usf, he lives around here though                                                                                                      \n",
       "...                                                             ...                                                                                                      \n",
       "5567  This is the 2nd time we have tried 2 contact u. U have won the å£750 Pound prize. 2 claim is easy, call 087187272008 NOW1! Only 10p per minute. BT-national-rate.  \n",
       "5568  Will Ì_ b going to esplanade fr home?                                                                                                                              \n",
       "5569  Pity, * was in mood for that. So...any other suggestions?                                                                                                          \n",
       "5570  The guy did some bitching but I acted like i'd be interested in buying something else next week and he gave it to us for free                                      \n",
       "5571  Rofl. Its true to its name                                                                                                                                         \n",
       "\n",
       "[5572 rows x 2 columns]"
      ]
     },
     "execution_count": 11,
     "metadata": {},
     "output_type": "execute_result"
    }
   ],
   "source": [
    "pd.set_option('display.max_colwidth',-1)\n",
    "df"
   ]
  },
  {
   "cell_type": "markdown",
   "id": "0333022b",
   "metadata": {},
   "source": [
    "### Rearanging dataframe columns"
   ]
  },
  {
   "cell_type": "code",
   "execution_count": 12,
   "id": "265f7dd7",
   "metadata": {},
   "outputs": [
    {
     "data": {
      "text/html": [
       "<div>\n",
       "<style scoped>\n",
       "    .dataframe tbody tr th:only-of-type {\n",
       "        vertical-align: middle;\n",
       "    }\n",
       "\n",
       "    .dataframe tbody tr th {\n",
       "        vertical-align: top;\n",
       "    }\n",
       "\n",
       "    .dataframe thead th {\n",
       "        text-align: right;\n",
       "    }\n",
       "</style>\n",
       "<table border=\"1\" class=\"dataframe\">\n",
       "  <thead>\n",
       "    <tr style=\"text-align: right;\">\n",
       "      <th></th>\n",
       "      <th>v2</th>\n",
       "      <th>v1</th>\n",
       "    </tr>\n",
       "  </thead>\n",
       "  <tbody>\n",
       "    <tr>\n",
       "      <th>0</th>\n",
       "      <td>Go until jurong point, crazy.. Available only in bugis n great world la e buffet... Cine there got amore wat...</td>\n",
       "      <td>ham</td>\n",
       "    </tr>\n",
       "    <tr>\n",
       "      <th>1</th>\n",
       "      <td>Ok lar... Joking wif u oni...</td>\n",
       "      <td>ham</td>\n",
       "    </tr>\n",
       "    <tr>\n",
       "      <th>2</th>\n",
       "      <td>Free entry in 2 a wkly comp to win FA Cup final tkts 21st May 2005. Text FA to 87121 to receive entry question(std txt rate)T&amp;C's apply 08452810075over18's</td>\n",
       "      <td>spam</td>\n",
       "    </tr>\n",
       "    <tr>\n",
       "      <th>3</th>\n",
       "      <td>U dun say so early hor... U c already then say...</td>\n",
       "      <td>ham</td>\n",
       "    </tr>\n",
       "    <tr>\n",
       "      <th>4</th>\n",
       "      <td>Nah I don't think he goes to usf, he lives around here though</td>\n",
       "      <td>ham</td>\n",
       "    </tr>\n",
       "    <tr>\n",
       "      <th>...</th>\n",
       "      <td>...</td>\n",
       "      <td>...</td>\n",
       "    </tr>\n",
       "    <tr>\n",
       "      <th>5567</th>\n",
       "      <td>This is the 2nd time we have tried 2 contact u. U have won the å£750 Pound prize. 2 claim is easy, call 087187272008 NOW1! Only 10p per minute. BT-national-rate.</td>\n",
       "      <td>spam</td>\n",
       "    </tr>\n",
       "    <tr>\n",
       "      <th>5568</th>\n",
       "      <td>Will Ì_ b going to esplanade fr home?</td>\n",
       "      <td>ham</td>\n",
       "    </tr>\n",
       "    <tr>\n",
       "      <th>5569</th>\n",
       "      <td>Pity, * was in mood for that. So...any other suggestions?</td>\n",
       "      <td>ham</td>\n",
       "    </tr>\n",
       "    <tr>\n",
       "      <th>5570</th>\n",
       "      <td>The guy did some bitching but I acted like i'd be interested in buying something else next week and he gave it to us for free</td>\n",
       "      <td>ham</td>\n",
       "    </tr>\n",
       "    <tr>\n",
       "      <th>5571</th>\n",
       "      <td>Rofl. Its true to its name</td>\n",
       "      <td>ham</td>\n",
       "    </tr>\n",
       "  </tbody>\n",
       "</table>\n",
       "<p>5572 rows × 2 columns</p>\n",
       "</div>"
      ],
      "text/plain": [
       "                                                                                                                                                                     v2  \\\n",
       "0     Go until jurong point, crazy.. Available only in bugis n great world la e buffet... Cine there got amore wat...                                                     \n",
       "1     Ok lar... Joking wif u oni...                                                                                                                                       \n",
       "2     Free entry in 2 a wkly comp to win FA Cup final tkts 21st May 2005. Text FA to 87121 to receive entry question(std txt rate)T&C's apply 08452810075over18's         \n",
       "3     U dun say so early hor... U c already then say...                                                                                                                   \n",
       "4     Nah I don't think he goes to usf, he lives around here though                                                                                                       \n",
       "...                                                             ...                                                                                                       \n",
       "5567  This is the 2nd time we have tried 2 contact u. U have won the å£750 Pound prize. 2 claim is easy, call 087187272008 NOW1! Only 10p per minute. BT-national-rate.   \n",
       "5568  Will Ì_ b going to esplanade fr home?                                                                                                                               \n",
       "5569  Pity, * was in mood for that. So...any other suggestions?                                                                                                           \n",
       "5570  The guy did some bitching but I acted like i'd be interested in buying something else next week and he gave it to us for free                                       \n",
       "5571  Rofl. Its true to its name                                                                                                                                          \n",
       "\n",
       "        v1  \n",
       "0     ham   \n",
       "1     ham   \n",
       "2     spam  \n",
       "3     ham   \n",
       "4     ham   \n",
       "...   ...   \n",
       "5567  spam  \n",
       "5568  ham   \n",
       "5569  ham   \n",
       "5570  ham   \n",
       "5571  ham   \n",
       "\n",
       "[5572 rows x 2 columns]"
      ]
     },
     "execution_count": 12,
     "metadata": {},
     "output_type": "execute_result"
    }
   ],
   "source": [
    "df = df[['v2','v1']]\n",
    "df"
   ]
  },
  {
   "cell_type": "markdown",
   "id": "1f9f0934",
   "metadata": {},
   "source": [
    "### Preprocessing on the feature variable"
   ]
  },
  {
   "cell_type": "code",
   "execution_count": 13,
   "id": "295172ae",
   "metadata": {},
   "outputs": [],
   "source": [
    "def clean_s(data):\n",
    "    pd.set_option('display.max_colwidth', -1)\n",
    "\n",
    "    #defining the function to remove punctuation\n",
    "    def remove_punctuation(text):\n",
    "        punctuationfree=\"\".join([i for i in text if i not in string.punctuation])\n",
    "        return punctuationfree\n",
    "    #storing the puntuation free text\n",
    "    data = remove_punctuation(data)\n",
    "    \n",
    "    #lower\n",
    "    data = data.lower()\n",
    "    \n",
    "    #defining function for tokenization\n",
    "    def tokenization(text):\n",
    "        tokens = re.split('W+',text)\n",
    "        return tokens\n",
    "      \n",
    "    data = tokenization(data)\n",
    "    def remove_stopwords(text):\n",
    "        output= [i for i in text if i not in stopwords]\n",
    "        return output\n",
    "    #applying the function\n",
    "    data = remove_stopwords(data)    \n",
    "    \n",
    "    ##Steaming \n",
    "    #defining a function for stemming\n",
    "    def stemming(text):\n",
    "        stem_text = [porter_stemmer.stem(word) for word in text]\n",
    "        return stem_text\n",
    "    data = stemming(data)\n",
    "    def to_str(x):\n",
    "        x =''.join(x)\n",
    "        return x\n",
    "    data = to_str(data)\n",
    "    \n",
    "    def remove_numbers(input_str):\n",
    "        result = re.sub(r'\\d+', '', input_str)\n",
    "        return result\n",
    "    data = remove_numbers(data)        \n",
    "    return data"
   ]
  },
  {
   "cell_type": "code",
   "execution_count": 14,
   "id": "af2fa875",
   "metadata": {},
   "outputs": [
    {
     "name": "stderr",
     "output_type": "stream",
     "text": [
      "C:\\Users\\KARANC~1\\AppData\\Local\\Temp/ipykernel_43700/3031690834.py:2: FutureWarning: Passing a negative integer is deprecated in version 1.0 and will not be supported in future version. Instead, use None to not limit the column width.\n",
      "  pd.set_option('display.max_colwidth', -1)\n"
     ]
    },
    {
     "data": {
      "text/html": [
       "<div>\n",
       "<style scoped>\n",
       "    .dataframe tbody tr th:only-of-type {\n",
       "        vertical-align: middle;\n",
       "    }\n",
       "\n",
       "    .dataframe tbody tr th {\n",
       "        vertical-align: top;\n",
       "    }\n",
       "\n",
       "    .dataframe thead th {\n",
       "        text-align: right;\n",
       "    }\n",
       "</style>\n",
       "<table border=\"1\" class=\"dataframe\">\n",
       "  <thead>\n",
       "    <tr style=\"text-align: right;\">\n",
       "      <th></th>\n",
       "      <th>v2</th>\n",
       "      <th>v1</th>\n",
       "    </tr>\n",
       "  </thead>\n",
       "  <tbody>\n",
       "    <tr>\n",
       "      <th>0</th>\n",
       "      <td>go until jurong point crazy available only in bugis n great world la e buffet cine there got amore wat</td>\n",
       "      <td>ham</td>\n",
       "    </tr>\n",
       "    <tr>\n",
       "      <th>1</th>\n",
       "      <td>ok lar joking wif u oni</td>\n",
       "      <td>ham</td>\n",
       "    </tr>\n",
       "    <tr>\n",
       "      <th>2</th>\n",
       "      <td>free entry in  a wkly comp to win fa cup final tkts st may  text fa to  to receive entry questionstd txt ratetcs apply over</td>\n",
       "      <td>spam</td>\n",
       "    </tr>\n",
       "    <tr>\n",
       "      <th>3</th>\n",
       "      <td>u dun say so early hor u c already then say</td>\n",
       "      <td>ham</td>\n",
       "    </tr>\n",
       "    <tr>\n",
       "      <th>4</th>\n",
       "      <td>nah i dont think he goes to usf he lives around here though</td>\n",
       "      <td>ham</td>\n",
       "    </tr>\n",
       "    <tr>\n",
       "      <th>...</th>\n",
       "      <td>...</td>\n",
       "      <td>...</td>\n",
       "    </tr>\n",
       "    <tr>\n",
       "      <th>5567</th>\n",
       "      <td>this is the nd time we have tried  contact u u have won the å£ pound prize  claim is easy call  now only p per minute btnationalr</td>\n",
       "      <td>spam</td>\n",
       "    </tr>\n",
       "    <tr>\n",
       "      <th>5568</th>\n",
       "      <td>will ì b going to esplanade fr hom</td>\n",
       "      <td>ham</td>\n",
       "    </tr>\n",
       "    <tr>\n",
       "      <th>5569</th>\n",
       "      <td>pity  was in mood for that soany other suggest</td>\n",
       "      <td>ham</td>\n",
       "    </tr>\n",
       "    <tr>\n",
       "      <th>5570</th>\n",
       "      <td>the guy did some bitching but i acted like id be interested in buying something else next week and he gave it to us for fre</td>\n",
       "      <td>ham</td>\n",
       "    </tr>\n",
       "    <tr>\n",
       "      <th>5571</th>\n",
       "      <td>rofl its true to its nam</td>\n",
       "      <td>ham</td>\n",
       "    </tr>\n",
       "  </tbody>\n",
       "</table>\n",
       "<p>5572 rows × 2 columns</p>\n",
       "</div>"
      ],
      "text/plain": [
       "                                                                                                                                     v2  \\\n",
       "0     go until jurong point crazy available only in bugis n great world la e buffet cine there got amore wat                              \n",
       "1     ok lar joking wif u oni                                                                                                             \n",
       "2     free entry in  a wkly comp to win fa cup final tkts st may  text fa to  to receive entry questionstd txt ratetcs apply over         \n",
       "3     u dun say so early hor u c already then say                                                                                         \n",
       "4     nah i dont think he goes to usf he lives around here though                                                                         \n",
       "...                                                           ...                                                                         \n",
       "5567  this is the nd time we have tried  contact u u have won the å£ pound prize  claim is easy call  now only p per minute btnationalr   \n",
       "5568  will ì b going to esplanade fr hom                                                                                                  \n",
       "5569  pity  was in mood for that soany other suggest                                                                                      \n",
       "5570  the guy did some bitching but i acted like id be interested in buying something else next week and he gave it to us for fre         \n",
       "5571  rofl its true to its nam                                                                                                            \n",
       "\n",
       "        v1  \n",
       "0     ham   \n",
       "1     ham   \n",
       "2     spam  \n",
       "3     ham   \n",
       "4     ham   \n",
       "...   ...   \n",
       "5567  spam  \n",
       "5568  ham   \n",
       "5569  ham   \n",
       "5570  ham   \n",
       "5571  ham   \n",
       "\n",
       "[5572 rows x 2 columns]"
      ]
     },
     "execution_count": 14,
     "metadata": {},
     "output_type": "execute_result"
    }
   ],
   "source": [
    "df['v2'] = df['v2'].apply(clean_s)\n",
    "df"
   ]
  },
  {
   "cell_type": "markdown",
   "id": "da281735",
   "metadata": {},
   "source": [
    "### Defining features and labels as x and y variables "
   ]
  },
  {
   "cell_type": "code",
   "execution_count": 15,
   "id": "1df135e6",
   "metadata": {},
   "outputs": [],
   "source": [
    "x = df['v2']\n",
    "y = df['v1']"
   ]
  },
  {
   "cell_type": "markdown",
   "id": "32f73343",
   "metadata": {},
   "source": [
    "### Spliting the dataset into training and testing sets"
   ]
  },
  {
   "cell_type": "code",
   "execution_count": 16,
   "id": "5bd91994",
   "metadata": {},
   "outputs": [],
   "source": [
    "x_train, x_test, y_train, y_test = TTS(x,y)"
   ]
  },
  {
   "cell_type": "code",
   "execution_count": 17,
   "id": "b638e679",
   "metadata": {},
   "outputs": [
    {
     "data": {
      "text/plain": [
       "1943    i got lousy sleep i kept waking up every  hours to see if my cat wanted to come in i worry about him when its cold                                \n",
       "589     im in a meeting call me later at                                                                                                                  \n",
       "620     dear we got  ltgt  dollars hi hi                                                                                                                  \n",
       "1859    whats up do you want me to come onlin                                                                                                             \n",
       "1514    kall the bestcongrat                                                                                                                              \n",
       "                ...                                                                                                                                       \n",
       "2358    ill talk to the others and probably just come early tomorrow then                                                                                 \n",
       "4197    want to funk up ur fone with a weekly new tone reply tonesu  this text wwwringtonescouk the original n best tones gbp network operator rates appli\n",
       "981     reckon need to be in town by eightish to walk from  carpark                                                                                       \n",
       "2129    mine here like all fr china then so noisi                                                                                                         \n",
       "1451    ya when are ì taking ure practical lessons i start in june                                                                                        \n",
       "Name: v2, Length: 4179, dtype: object"
      ]
     },
     "execution_count": 17,
     "metadata": {},
     "output_type": "execute_result"
    }
   ],
   "source": [
    "x_train"
   ]
  },
  {
   "cell_type": "markdown",
   "id": "764d1c2a",
   "metadata": {},
   "source": [
    "### Transforming training features and testing features using Tfidf Vectorizer"
   ]
  },
  {
   "cell_type": "code",
   "execution_count": 18,
   "id": "7dfb3028",
   "metadata": {},
   "outputs": [
    {
     "data": {
      "text/plain": [
       "array([[0., 0., 0., ..., 0., 0., 0.],\n",
       "       [0., 0., 0., ..., 0., 0., 0.],\n",
       "       [0., 0., 0., ..., 0., 0., 0.],\n",
       "       ...,\n",
       "       [0., 0., 0., ..., 0., 0., 0.],\n",
       "       [0., 0., 0., ..., 0., 0., 0.],\n",
       "       [0., 0., 0., ..., 0., 0., 0.]])"
      ]
     },
     "execution_count": 18,
     "metadata": {},
     "output_type": "execute_result"
    }
   ],
   "source": [
    "tf = TV(min_df=1)\n",
    "x_train = tf.fit_transform(x_train).toarray()\n",
    "x_train"
   ]
  },
  {
   "cell_type": "code",
   "execution_count": 19,
   "id": "c7ccc8d3",
   "metadata": {},
   "outputs": [
    {
     "data": {
      "text/plain": [
       "array([[0., 0., 0., ..., 0., 0., 0.],\n",
       "       [0., 0., 0., ..., 0., 0., 0.],\n",
       "       [0., 0., 0., ..., 0., 0., 0.],\n",
       "       ...,\n",
       "       [0., 0., 0., ..., 0., 0., 0.],\n",
       "       [0., 0., 0., ..., 0., 0., 0.],\n",
       "       [0., 0., 0., ..., 0., 0., 0.]])"
      ]
     },
     "execution_count": 19,
     "metadata": {},
     "output_type": "execute_result"
    }
   ],
   "source": [
    "x_test = tf.transform(x_test).toarray()\n",
    "x_test"
   ]
  },
  {
   "cell_type": "markdown",
   "id": "5aec5556",
   "metadata": {},
   "source": [
    "### Training and testing data using Gaussian naive bayes model"
   ]
  },
  {
   "cell_type": "code",
   "execution_count": 20,
   "id": "e35c6131",
   "metadata": {},
   "outputs": [
    {
     "name": "stdout",
     "output_type": "stream",
     "text": [
      "0.9660205790859058 0.8980617372577172\n",
      "Wall time: 2.84 s\n"
     ]
    }
   ],
   "source": [
    "%%time\n",
    "gnb = GNB()\n",
    "gnb.fit(x_train,y_train)\n",
    "print(gnb.score(x_train,y_train), gnb.score(x_test,y_test))"
   ]
  },
  {
   "cell_type": "markdown",
   "id": "9606ad80",
   "metadata": {},
   "source": [
    "### Training and testing data using Support Vector Machine model"
   ]
  },
  {
   "cell_type": "code",
   "execution_count": 21,
   "id": "b291ef91",
   "metadata": {},
   "outputs": [
    {
     "name": "stdout",
     "output_type": "stream",
     "text": [
      "1.0 0.9791816223977028\n",
      "Wall time: 2min 58s\n"
     ]
    }
   ],
   "source": [
    "%%time\n",
    "svc = SVC(class_weight='balanced')\n",
    "svc.fit(x_train,y_train)\n",
    "print(svc.score(x_train,y_train), svc.score(x_test,y_test))"
   ]
  },
  {
   "cell_type": "markdown",
   "id": "fc8773f3",
   "metadata": {},
   "source": [
    "### Training and testing data using Decision Tree Classifier model"
   ]
  },
  {
   "cell_type": "code",
   "execution_count": 22,
   "id": "8cc9801d",
   "metadata": {},
   "outputs": [
    {
     "name": "stdout",
     "output_type": "stream",
     "text": [
      "1.0 0.9540559942569993\n",
      "Wall time: 6.98 s\n"
     ]
    }
   ],
   "source": [
    "%%time\n",
    "dt = DTC(class_weight='balanced')\n",
    "dt.fit(x_train,y_train)\n",
    "print(dt.score(x_train,y_train), dt.score(x_test,y_test))"
   ]
  },
  {
   "cell_type": "markdown",
   "id": "785849d5",
   "metadata": {},
   "source": [
    "### Training and testing data using Random Forest Classifier model"
   ]
  },
  {
   "cell_type": "code",
   "execution_count": 23,
   "id": "d2308cd3",
   "metadata": {},
   "outputs": [
    {
     "name": "stdout",
     "output_type": "stream",
     "text": [
      "1.0 0.9698492462311558\n",
      "Wall time: 16.4 s\n"
     ]
    }
   ],
   "source": [
    "%%time\n",
    "rfc = RFC(class_weight='balanced')\n",
    "rfc.fit(x_train,y_train)\n",
    "print(rfc.score(x_train,y_train), rfc.score(x_test,y_test))"
   ]
  },
  {
   "cell_type": "code",
   "execution_count": null,
   "id": "e6b3776e",
   "metadata": {},
   "outputs": [],
   "source": []
  },
  {
   "cell_type": "code",
   "execution_count": 24,
   "id": "361e2b6a",
   "metadata": {},
   "outputs": [],
   "source": [
    "x2_train, x2_test, y2_train, y2_test = TTS(x,y)"
   ]
  },
  {
   "cell_type": "markdown",
   "id": "cb0be3ff",
   "metadata": {},
   "source": [
    "### Transforming training features and testing features using Count Vectorizer"
   ]
  },
  {
   "cell_type": "code",
   "execution_count": 25,
   "id": "3373f4bc",
   "metadata": {},
   "outputs": [
    {
     "data": {
      "text/plain": [
       "array([[0, 0, 0, ..., 0, 0, 0],\n",
       "       [0, 0, 0, ..., 0, 0, 0],\n",
       "       [0, 0, 0, ..., 0, 0, 0],\n",
       "       ...,\n",
       "       [0, 0, 0, ..., 0, 0, 0],\n",
       "       [0, 0, 0, ..., 0, 0, 0],\n",
       "       [0, 0, 0, ..., 0, 0, 0]], dtype=int64)"
      ]
     },
     "execution_count": 25,
     "metadata": {},
     "output_type": "execute_result"
    }
   ],
   "source": [
    "cv = CV(min_df=1)\n",
    "x2_train = cv.fit_transform(x2_train).toarray()\n",
    "x2_train"
   ]
  },
  {
   "cell_type": "code",
   "execution_count": 26,
   "id": "92bd0627",
   "metadata": {},
   "outputs": [
    {
     "data": {
      "text/plain": [
       "array([[0, 0, 0, ..., 0, 0, 0],\n",
       "       [0, 0, 0, ..., 0, 0, 0],\n",
       "       [0, 0, 0, ..., 0, 0, 0],\n",
       "       ...,\n",
       "       [0, 0, 0, ..., 0, 0, 0],\n",
       "       [0, 0, 0, ..., 0, 0, 0],\n",
       "       [0, 0, 0, ..., 0, 0, 0]], dtype=int64)"
      ]
     },
     "execution_count": 26,
     "metadata": {},
     "output_type": "execute_result"
    }
   ],
   "source": [
    "x2_test = cv.transform(x2_test).toarray()\n",
    "x2_test"
   ]
  },
  {
   "cell_type": "markdown",
   "id": "f29ef3e1",
   "metadata": {},
   "source": [
    "### Training and testing data using Gaussian Naive Bayes model"
   ]
  },
  {
   "cell_type": "code",
   "execution_count": 27,
   "id": "bb5a5dad",
   "metadata": {},
   "outputs": [
    {
     "name": "stdout",
     "output_type": "stream",
     "text": [
      "0.9631490787269682 0.9095477386934674\n",
      "Wall time: 1.99 s\n"
     ]
    }
   ],
   "source": [
    "%%time\n",
    "gnb = GNB()\n",
    "gnb.fit(x2_train,y2_train)\n",
    "print(gnb.score(x2_train,y2_train), gnb.score(x2_test,y2_test))"
   ]
  },
  {
   "cell_type": "markdown",
   "id": "60e6aac3",
   "metadata": {},
   "source": [
    "### Training and testing data using Support vector Classifier model"
   ]
  },
  {
   "cell_type": "code",
   "execution_count": 28,
   "id": "c2c43351",
   "metadata": {},
   "outputs": [
    {
     "name": "stdout",
     "output_type": "stream",
     "text": [
      "0.9988035415171094 0.9770279971284996\n",
      "Wall time: 2min 3s\n"
     ]
    }
   ],
   "source": [
    "%%time\n",
    "svc = SVC(class_weight='balanced')\n",
    "svc.fit(x2_train,y2_train)\n",
    "print(svc.score(x2_train,y2_train), svc.score(x2_test,y2_test))"
   ]
  },
  {
   "cell_type": "markdown",
   "id": "f5c6ecc0",
   "metadata": {},
   "source": [
    "### Training and testing data using Decision Tree Classifier model"
   ]
  },
  {
   "cell_type": "code",
   "execution_count": 29,
   "id": "4f5f2a45",
   "metadata": {},
   "outputs": [
    {
     "name": "stdout",
     "output_type": "stream",
     "text": [
      "1.0 0.9504666188083274\n",
      "Wall time: 6.7 s\n"
     ]
    }
   ],
   "source": [
    "%%time\n",
    "dt = DTC(class_weight='balanced')\n",
    "dt.fit(x2_train,y2_train)\n",
    "print(dt.score(x2_train,y2_train), dt.score(x2_test,y2_test))"
   ]
  },
  {
   "cell_type": "markdown",
   "id": "0d8832ab",
   "metadata": {},
   "source": [
    "### Training and testing data using Random Forest Classifier model"
   ]
  },
  {
   "cell_type": "code",
   "execution_count": 30,
   "id": "3035e3d0",
   "metadata": {},
   "outputs": [
    {
     "name": "stdout",
     "output_type": "stream",
     "text": [
      "1.0 0.9605168700646087\n",
      "Wall time: 16.9 s\n"
     ]
    }
   ],
   "source": [
    "%%time\n",
    "rfc = RFC(class_weight='balanced')\n",
    "rfc.fit(x2_train,y2_train)\n",
    "print(rfc.score(x2_train,y2_train), rfc.score(x2_test,y2_test))"
   ]
  },
  {
   "cell_type": "markdown",
   "id": "a37771f6",
   "metadata": {},
   "source": [
    "### Checking Classification report"
   ]
  },
  {
   "cell_type": "code",
   "execution_count": 44,
   "id": "5fa36466",
   "metadata": {},
   "outputs": [
    {
     "data": {
      "text/plain": [
       "array([[1104,   99],\n",
       "       [  27,  163]], dtype=int64)"
      ]
     },
     "execution_count": 44,
     "metadata": {},
     "output_type": "execute_result"
    }
   ],
   "source": [
    "pre = gnb.predict(x2_test)\n",
    "confusion_matrix(y2_test,pre)"
   ]
  },
  {
   "cell_type": "code",
   "execution_count": 41,
   "id": "c5f63e36",
   "metadata": {},
   "outputs": [
    {
     "name": "stdout",
     "output_type": "stream",
     "text": [
      "              precision    recall  f1-score   support\n",
      "\n",
      "         ham       0.98      0.92      0.95      1203\n",
      "        spam       0.62      0.86      0.72       190\n",
      "\n",
      "    accuracy                           0.91      1393\n",
      "   macro avg       0.80      0.89      0.83      1393\n",
      "weighted avg       0.93      0.91      0.92      1393\n",
      "\n"
     ]
    }
   ],
   "source": [
    "print(classification_report(y2_test,pre))"
   ]
  },
  {
   "cell_type": "markdown",
   "id": "cdaae804",
   "metadata": {},
   "source": [
    "### Testing new messages on the final model i.e, Gaussian Naive bayes model"
   ]
  },
  {
   "cell_type": "code",
   "execution_count": 31,
   "id": "ef0f653e",
   "metadata": {},
   "outputs": [
    {
     "name": "stdout",
     "output_type": "stream",
     "text": [
      "1. Congratulations, you've won…! - Spam\n",
      "2. are you free on Sunday? - Ham\n",
      "3. free ringtones - Spam\n",
      "4. I am in class, will call you back later - Ham\n",
      "5. You have received a scholarship fund - Spam\n"
     ]
    }
   ],
   "source": [
    "inp = [\"Congratulations, you've won…!\",'are you free on Sunday?','free ringtones','I am in class, will call you back later','You have received a scholarship fund']\n",
    "for i in range(len(inp)):\n",
    "    if gnb.predict(cv.transform([inp[i]]).toarray()) == 'ham':\n",
    "        prediction = 'Ham'\n",
    "    else:\n",
    "        prediction = 'Spam'\n",
    "    print(f'{i+1}. {str(inp[i])} - {prediction}')"
   ]
  },
  {
   "cell_type": "code",
   "execution_count": null,
   "id": "6f67e4ce",
   "metadata": {},
   "outputs": [],
   "source": []
  },
  {
   "cell_type": "markdown",
   "id": "a3dd5d38",
   "metadata": {},
   "source": [
    "\n",
    "### 🔸We have used 4 machine learning models:\n",
    "### 1. Support Vector Machine\n",
    "### 2. Gaussian Naive Bayes\n",
    "### 3. Decision Tree Classifier\n",
    "### 4. Random Forest Classifier\n",
    "\n",
    "### 🔸We can see that 'Decision Tree Classifier' and 'Random Forest Classifier' models overfits on the training data.\n",
    "### 🔸While testing new messages using the 'Decision Tree Classifier','Random Forest Classifier','Support Vector Machine' and 'Gaussian Naive Bayes' models, 'Gaussian Naive Bayes' model performs best with correct predictions.\n",
    "\n",
    "### 🔸Hence, 'Gaussian Naive Bayes' model acts as the best machine learning model for this dataset."
   ]
  },
  {
   "cell_type": "code",
   "execution_count": null,
   "id": "6a8a981e",
   "metadata": {},
   "outputs": [],
   "source": []
  }
 ],
 "metadata": {
  "kernelspec": {
   "display_name": "Python 3 (ipykernel)",
   "language": "python",
   "name": "python3"
  },
  "language_info": {
   "codemirror_mode": {
    "name": "ipython",
    "version": 3
   },
   "file_extension": ".py",
   "mimetype": "text/x-python",
   "name": "python",
   "nbconvert_exporter": "python",
   "pygments_lexer": "ipython3",
   "version": "3.9.7"
  }
 },
 "nbformat": 4,
 "nbformat_minor": 5
}
